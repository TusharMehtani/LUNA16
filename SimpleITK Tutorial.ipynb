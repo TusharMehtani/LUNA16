{
 "cells": [
  {
   "cell_type": "markdown",
   "metadata": {},
   "source": [
    "# Tutorial on how to open, visualize and extract some features from a .mhd Image"
   ]
  },
  {
   "cell_type": "markdown",
   "metadata": {},
   "source": [
    "This Tutorial will show how to:\n",
    "    - Open and read a .mhd image\n",
    "    - Visualize a .mhd image\n",
    "    - Read a list of candidates from a .csv file\n",
    "    - Transform from world coordinates to voxel coordinates\n",
    "    - Extract some features / patches of candidates and visualize them\n",
    "To be able to run this tutorial some python libraries / modules need to be installed:\n",
    "    - Simple ITK: a library for handling and processing medical images\n",
    "    - Numpy: a fundamental package for scientific computing with Python\n",
    "    - PIL (Python Imaging Library): a library for adding image processing capabilities to your Python interpreter \n",
    "    - Matplotlib: a plotting library for the Python programming language"
   ]
  },
  {
   "cell_type": "markdown",
   "metadata": {},
   "source": [
    "We start importing required modules / libraries  using the import command from python"
   ]
  },
  {
   "cell_type": "code",
   "execution_count": 1,
   "metadata": {},
   "outputs": [],
   "source": [
    "import SimpleITK as sitk\n",
    "import numpy as np\n",
    "import csv\n",
    "import os\n",
    "from PIL import Image\n",
    "import matplotlib.pyplot as plt\n",
    "%matplotlib inline"
   ]
  },
  {
   "cell_type": "markdown",
   "metadata": {},
   "source": [
    "We define now a function to:\n",
    "    - Open the image \n",
    "    - Store it into a numpy array\n",
    "    - Extract the following info: Pixel Spacing, Origin\n",
    "This function takes as input the name of the image and returns:\n",
    "    - The array corresponding to the image (numpyImage)\n",
    "    - Origin (numpyOrigin)\n",
    "    - PixelSpacing (numpySpacing)"
   ]
  },
  {
   "cell_type": "code",
   "execution_count": 2,
   "metadata": {
    "collapsed": true
   },
   "outputs": [],
   "source": [
    "def load_itk_image(filename):\n",
    "    itkimage = sitk.ReadImage(filename)\n",
    "    numpyImage = sitk.GetArrayFromImage(itkimage)\n",
    "     \n",
    "    numpyOrigin = np.array(list(reversed(itkimage.GetOrigin())))\n",
    "    numpySpacing = np.array(list(reversed(itkimage.GetSpacing())))\n",
    "     \n",
    "    return numpyImage, numpyOrigin, numpySpacing"
   ]
  },
  {
   "cell_type": "markdown",
   "metadata": {},
   "source": [
    "To be able to open and read the list of candidates, we need to use the csv python module. \n",
    "We define now a function to:\n",
    "    - Open a csv file\n",
    "    - Read a csv file\n",
    "    - Save each line of a csv file\n",
    "This functions takes as input the name of the csv file and returns:\n",
    "    - A list of each line of the csv"
   ]
  },
  {
   "cell_type": "code",
   "execution_count": 3,
   "metadata": {
    "collapsed": true
   },
   "outputs": [],
   "source": [
    "def readCSV(filename):\n",
    "    lines = []\n",
    "    with open(filename, \"rb\") as f:\n",
    "        csvreader = csv.reader(f)\n",
    "        for line in csvreader:\n",
    "            lines.append(line)\n",
    "    return lines"
   ]
  },
  {
   "cell_type": "markdown",
   "metadata": {},
   "source": [
    "Since the coordinates of the candidates are given in World Coordinates, we now need to transform from world coordinates to voxel coordinates. \n",
    "We define now a function to do that. Please note that the transformation below is only valid if there is no rotation component in the transformation matrix. For all CT images in our dataset, there is no rotation component so that this formula can be used. \n",
    "This function takes as inputs:\n",
    "    - The world coordinates\n",
    "    - The origin\n",
    "    - The pixel Spacing\n",
    "This function returns:\n",
    "    - Voxel coordinates (voxelCoord)"
   ]
  },
  {
   "cell_type": "code",
   "execution_count": 4,
   "metadata": {
    "collapsed": true
   },
   "outputs": [],
   "source": [
    "def worldToVoxelCoord(worldCoord, origin, spacing):\n",
    "     \n",
    "    stretchedVoxelCoord = np.absolute(worldCoord - origin)\n",
    "    voxelCoord = stretchedVoxelCoord / spacing\n",
    "    return voxelCoord"
   ]
  },
  {
   "cell_type": "markdown",
   "metadata": {},
   "source": [
    "We want to extract now some features from the candidates. We define some normalized planes to extract views from the candidates"
   ]
  },
  {
   "cell_type": "code",
   "execution_count": 5,
   "metadata": {
    "collapsed": true
   },
   "outputs": [],
   "source": [
    "def normalizePlanes(npzarray):\n",
    "     \n",
    "    maxHU = 400.\n",
    "    minHU = -1000.\n",
    " \n",
    "    npzarray = (npzarray - minHU) / (maxHU - minHU)\n",
    "    npzarray[npzarray>1] = 1.\n",
    "    npzarray[npzarray<0] = 0.\n",
    "    return npzarray"
   ]
  },
  {
   "cell_type": "markdown",
   "metadata": {},
   "source": [
    "After having defined these auxiliary functions, we can now define the main part of our script.\n",
    "First we:\n",
    "    - Specify the path where the image (img_path) is \n",
    "    - Specificy the path where the file with the list of candidates is (cand_path)"
   ]
  },
  {
   "cell_type": "code",
   "execution_count": 14,
   "metadata": {
    "collapsed": true
   },
   "outputs": [],
   "source": [
    "img_path  = 'Luna16 data/seg-lungs-LUNA16/seg-lungs-LUNA16/1.3.6.1.4.1.14519.5.2.1.6279.6001.100225287222365663678666836860.mhd'\n",
    "cand_path = 'Luna16 data/seg-lungs-LUNA16/seg-lungs-LUNA16/CSVFILES/candidates.csv'"
   ]
  },
  {
   "cell_type": "markdown",
   "metadata": {},
   "source": [
    "Using the function defined in line 2 we can:\n",
    "    - Load the image\n",
    "    - Extract the Origin\n",
    "    - Extract the Pixel Spacing "
   ]
  },
  {
   "cell_type": "code",
   "execution_count": 15,
   "metadata": {},
   "outputs": [
    {
     "name": "stdout",
     "output_type": "stream",
     "text": [
      "(194L, 512L, 512L)\n",
      "[-438.4     -311.67773 -157.67773]\n",
      "[ 1.79999995  0.64453125  0.64453125]\n"
     ]
    }
   ],
   "source": [
    "# load image\n",
    "numpyImage, numpyOrigin, numpySpacing = load_itk_image(img_path)\n",
    "print numpyImage.shape\n",
    "print numpyOrigin\n",
    "print numpySpacing"
   ]
  },
  {
   "cell_type": "markdown",
   "metadata": {},
   "source": [
    "Using the function defined in line 3 we can:\n",
    "    - Load the csv file\n",
    "    - Get the candidates \n",
    "Using the function defined in line 4 we can: \n",
    "    - Transform from world to voxel coordinates"
   ]
  },
  {
   "cell_type": "code",
   "execution_count": 16,
   "metadata": {},
   "outputs": [],
   "source": [
    "# load candidates\n",
    "cands = readCSV(cand_path)\n",
    "#print cands\n",
    "# get candidates\n",
    "for cand in cands[1:]:\n",
    "    worldCoord = np.asarray([float(cand[3]),float(cand[2]),float(cand[1])])\n",
    "    voxelCoord = worldToVoxelCoord(worldCoord, numpyOrigin, numpySpacing)\n",
    "    voxelWidth = 65"
   ]
  },
  {
   "cell_type": "markdown",
   "metadata": {},
   "source": [
    "Using the function defined in line 5 we can:\n",
    "    - Extract patch for each candidate in the list\n",
    "    - Visualize each patch\n",
    "    - Save each page as image in .tiff format"
   ]
  },
  {
   "cell_type": "code",
   "execution_count": 18,
   "metadata": {},
   "outputs": [
    {
     "name": "stdout",
     "output_type": "stream",
     "text": [
      "data\n",
      "[-311.92  -67.85  -56.08]\n",
      "[  70.26666853  378.30241745  157.63041745]\n",
      "[[ 0.71714286  0.71714286  0.71714286 ...,  0.71714286  0.71714286\n",
      "   0.71714286]\n",
      " [ 0.71714286  0.71714286  0.71714286 ...,  0.71714286  0.71714286\n",
      "   0.71714286]\n",
      " [ 0.71714286  0.71714286  0.71714286 ...,  0.71714286  0.71714286\n",
      "   0.71714286]\n",
      " ..., \n",
      " [ 0.71428571  0.71428571  0.71428571 ...,  0.71428571  0.71428571\n",
      "   0.71428571]\n",
      " [ 0.71428571  0.71428571  0.71428571 ...,  0.71428571  0.71428571\n",
      "   0.71428571]\n",
      " [ 0.71428571  0.71428571  0.71428571 ...,  0.71428571  0.71428571\n",
      "   0.71428571]]\n"
     ]
    },
    {
     "data": {
      "image/png": "[encoded data removed]",
      "text/plain": [
       "<matplotlib.figure.Figure at 0x1ddda7f0>"
      ]
     },
     "metadata": {},
     "output_type": "display_data"
    },
    {
     "name": "stdout",
     "output_type": "stream",
     "text": [
      "data\n",
      "[-245.17 -244.41   53.21]\n",
      "[ 107.35000284  104.3669023   327.19550836]\n",
      "[[ 0.71428571  0.71428571  0.71428571 ...,  0.71428571  0.71428571\n",
      "   0.71428571]\n",
      " [ 0.71428571  0.71428571  0.71428571 ...,  0.71428571  0.71428571\n",
      "   0.71428571]\n",
      " [ 0.71428571  0.71428571  0.71428571 ...,  0.71428571  0.71428571\n",
      "   0.71428571]\n",
      " ..., \n",
      " [ 0.71428571  0.71428571  0.71428571 ...,  0.71642857  0.71642857\n",
      "   0.71642857]\n",
      " [ 0.71428571  0.71428571  0.71428571 ...,  0.71642857  0.71642857\n",
      "   0.71642857]\n",
      " [ 0.71428571  0.71428571  0.71428571 ...,  0.71642857  0.71642857\n",
      "   0.71642857]]\n"
     ]
    },
    {
     "data": {
      "image/png": "[encoded data removed]",
      "text/plain": [
       "<matplotlib.figure.Figure at 0x1bf00048>"
      ]
     },
     "metadata": {},
     "output_type": "display_data"
    },
    {
     "name": "stdout",
     "output_type": "stream",
     "text": [
      "data\n",
      "[-286.62 -121.8   103.66]\n",
      "[  84.32222446  294.59817503  405.46944776]\n",
      "[[ 0.71642857  0.71642857  0.71642857 ...,  0.71642857  0.71642857\n",
      "   0.71642857]\n",
      " [ 0.71642857  0.71642857  0.71642857 ...,  0.71642857  0.71642857\n",
      "   0.71642857]\n",
      " [ 0.71642857  0.71642857  0.71642857 ...,  0.71642857  0.71642857\n",
      "   0.71642857]\n",
      " ..., \n",
      " [ 0.71642857  0.71642857  0.71642857 ...,  0.71642857  0.71642857\n",
      "   0.71642857]\n",
      " [ 0.71642857  0.71642857  0.71642857 ...,  0.71642857  0.71642857\n",
      "   0.71642857]\n",
      " [ 0.71642857  0.71642857  0.71642857 ...,  0.71642857  0.71642857\n",
      "   0.71642857]]\n"
     ]
    },
    {
     "data": {
      "image/png": "[encoded data removed]",
      "text/plain": [
       "<matplotlib.figure.Figure at 0x1dd48d68>"
      ]
     },
     "metadata": {},
     "output_type": "display_data"
    },
    {
     "name": "stdout",
     "output_type": "stream",
     "text": [
      "data\n",
      "[-308.41  -72.75  -33.66]\n",
      "[  72.21666858  370.69999321  192.41538715]\n",
      "[[ 0.71714286  0.71714286  0.71714286 ...,  0.71714286  0.71714286\n",
      "   0.71714286]\n",
      " [ 0.71714286  0.71714286  0.71714286 ...,  0.71714286  0.71714286\n",
      "   0.71714286]\n",
      " [ 0.71714286  0.71714286  0.71714286 ...,  0.71714286  0.71714286\n",
      "   0.71714286]\n",
      " ..., \n",
      " [ 0.71428571  0.71428571  0.71428571 ...,  0.71428571  0.71428571\n",
      "   0.71428571]\n",
      " [ 0.71428571  0.71428571  0.71428571 ...,  0.71428571  0.71428571\n",
      "   0.71428571]\n",
      " [ 0.71428571  0.71428571  0.71428571 ...,  0.71428571  0.71428571\n",
      "   0.71428571]]\n"
     ]
    },
    {
     "data": {
      "image/png": "[encoded data removed]",
      "text/plain": [
       "<matplotlib.figure.Figure at 0x9f65048>"
      ]
     },
     "metadata": {},
     "output_type": "display_data"
    },
    {
     "name": "stdout",
     "output_type": "stream",
     "text": [
      "data\n",
      "[-362.51  -85.36  -32.25]\n",
      "[  42.16111223  351.13538715  194.60302352]\n",
      "[[ 0.71428571  0.71428571  0.71428571 ...,  0.71428571  0.71428571\n",
      "   0.71428571]\n",
      " [ 0.71428571  0.71428571  0.71428571 ...,  0.71428571  0.71428571\n",
      "   0.71428571]\n",
      " [ 0.71428571  0.71428571  0.71428571 ...,  0.71428571  0.71428571\n",
      "   0.71428571]\n",
      " ..., \n",
      " [ 0.71714286  0.71714286  0.71714286 ...,  0.71428571  0.71428571\n",
      "   0.71428571]\n",
      " [ 0.71714286  0.71714286  0.71714286 ...,  0.71428571  0.71428571\n",
      "   0.71428571]\n",
      " [ 0.71428571  0.71428571  0.71428571 ...,  0.71428571  0.71428571\n",
      "   0.71428571]]\n"
     ]
    },
    {
     "data": {
      "image/png": "[encoded data removed]",
      "text/plain": [
       "<matplotlib.figure.Figure at 0x8653ba8>"
      ]
     },
     "metadata": {},
     "output_type": "display_data"
    },
    {
     "name": "stdout",
     "output_type": "stream",
     "text": [
      "data\n",
      "[-165.07 -203.07  -26.65]\n",
      "[ 151.85000402  168.50653867  203.29150836]\n",
      "[[ 0.71428571  0.71428571  0.71428571 ...,  0.71428571  0.71428571\n",
      "   0.71428571]\n",
      " [ 0.71428571  0.71428571  0.71428571 ...,  0.71428571  0.71428571\n",
      "   0.71428571]\n",
      " [ 0.71428571  0.71428571  0.71428571 ...,  0.71714286  0.71714286\n",
      "   0.71714286]\n",
      " ..., \n",
      " [ 0.71714286  0.71714286  0.71714286 ...,  0.71428571  0.71428571\n",
      "   0.71428571]\n",
      " [ 0.71714286  0.71714286  0.71714286 ...,  0.71428571  0.71428571\n",
      "   0.71428571]\n",
      " [ 0.71714286  0.71714286  0.71714286 ...,  0.71428571  0.71428571\n",
      "   0.71428571]]\n"
     ]
    },
    {
     "data": {
      "image/png": "[encoded data removed]",
      "text/plain": [
       "<matplotlib.figure.Figure at 0x95e3390>"
      ]
     },
     "metadata": {},
     "output_type": "display_data"
    },
    {
     "name": "stdout",
     "output_type": "stream",
     "text": [
      "data\n",
      "[-311.92 -114.79  -74.99]\n",
      "[  70.26666853  305.47429624  128.29126594]\n",
      "[[ 0.71714286  0.71714286  0.71714286 ...,  0.71714286  0.71714286\n",
      "   0.71714286]\n",
      " [ 0.71714286  0.71714286  0.71714286 ...,  0.71714286  0.71714286\n",
      "   0.71714286]\n",
      " [ 0.71714286  0.71714286  0.71714286 ...,  0.71714286  0.71714286\n",
      "   0.71714286]\n",
      " ..., \n",
      " [ 0.71714286  0.71714286  0.71714286 ...,  0.71714286  0.71714286\n",
      "   0.71714286]\n",
      " [ 0.71714286  0.71714286  0.71714286 ...,  0.71714286  0.71714286\n",
      "   0.71714286]\n",
      " [ 0.71714286  0.71714286  0.71714286 ...,  0.71714286  0.71714286\n",
      "   0.71714286]]\n"
     ]
    },
    {
     "data": {
      "image/png": "[encoded data removed]",
      "text/plain": [
       "<matplotlib.figure.Figure at 0x1c03a2e8>"
      ]
     },
     "metadata": {},
     "output_type": "display_data"
    },
    {
     "name": "stdout",
     "output_type": "stream",
     "text": [
      "data\n",
      "[-239.55 -248.61  -16.14]\n",
      "[ 110.47222515   97.85053867  219.59793261]\n",
      "[[ 0.71428571  0.71428571  0.71428571 ...,  0.71428571  0.71428571\n",
      "   0.71428571]\n",
      " [ 0.71428571  0.71428571  0.71428571 ...,  0.71428571  0.71428571\n",
      "   0.71428571]\n",
      " [ 0.71428571  0.71428571  0.71428571 ...,  0.71428571  0.71428571\n",
      "   0.71428571]\n",
      " ..., \n",
      " [ 0.71714286  0.71714286  0.71714286 ...,  0.71428571  0.71428571\n",
      "   0.71428571]\n",
      " [ 0.71714286  0.71714286  0.71714286 ...,  0.71428571  0.71428571\n",
      "   0.71428571]\n",
      " [ 0.71714286  0.71714286  0.71714286 ...,  0.71428571  0.71428571\n",
      "   0.71428571]]\n"
     ]
    },
    {
     "data": {
      "image/png": "[encoded data removed]",
      "text/plain": [
       "<matplotlib.figure.Figure at 0x9c964e0>"
      ]
     },
     "metadata": {},
     "output_type": "display_data"
    },
    {
     "name": "stdout",
     "output_type": "stream",
     "text": [
      "data\n",
      "[-252.2  -141.41  135.89]\n",
      "[ 103.44444718  264.17296291  455.47478109]\n",
      "[[ 0.71642857  0.71642857  0.71642857 ...,  0.71428571  0.71428571\n",
      "   0.71428571]\n",
      " [ 0.71642857  0.71642857  0.71642857 ...,  0.71428571  0.71428571\n",
      "   0.71428571]\n",
      " [ 0.71642857  0.71642857  0.71642857 ...,  0.71428571  0.71428571\n",
      "   0.71428571]\n",
      " ..., \n",
      " [ 0.71642857  0.71642857  0.71642857 ...,  0.71428571  0.71428571\n",
      "   0.71428571]\n",
      " [ 0.71642857  0.71642857  0.71642857 ...,  0.71428571  0.71428571\n",
      "   0.71428571]\n",
      " [ 0.71642857  0.71642857  0.71642857 ...,  0.71428571  0.71428571\n",
      "   0.71428571]]\n"
     ]
    },
    {
     "data": {
      "image/png": "[encoded data removed]",
      "text/plain": [
       "<matplotlib.figure.Figure at 0x16c4ea20>"
      ]
     },
     "metadata": {},
     "output_type": "display_data"
    },
    {
     "name": "stdout",
     "output_type": "stream",
     "text": [
      "data\n",
      "[-218.24339644  -68.43084739   90.10228469]\n",
      "[ 122.30922744  377.40122393  384.43444704]\n",
      "[[ 0.71642857  0.71642857  0.71642857 ...,  0.71642857  0.71642857\n",
      "   0.71642857]\n",
      " [ 0.71642857  0.71642857  0.71642857 ...,  0.71642857  0.71642857\n",
      "   0.71642857]\n",
      " [ 0.71642857  0.71642857  0.71642857 ...,  0.71642857  0.71642857\n",
      "   0.71642857]\n",
      " ..., \n",
      " [ 0.71428571  0.71428571  0.71428571 ...,  0.71428571  0.71428571\n",
      "   0.71428571]\n",
      " [ 0.71428571  0.71428571  0.71428571 ...,  0.71428571  0.71428571\n",
      "   0.71428571]\n",
      " [ 0.71428571  0.71428571  0.71428571 ...,  0.71428571  0.71428571\n",
      "   0.71428571]]\n"
     ]
    },
    {
     "data": {
      "image/png": "[encoded data removed]",
      "text/plain": [
       "<matplotlib.figure.Figure at 0x9c96cc0>"
      ]
     },
     "metadata": {},
     "output_type": "display_data"
    },
    {
     "name": "stdout",
     "output_type": "stream",
     "text": [
      "data\n",
      "[-252.9463643 -164.1271858  -45.8738148]\n",
      "[ 103.02980034  228.92690494  173.46546843]\n",
      "[[ 0.71714286  0.71714286  0.71714286 ...,  0.71428571  0.71428571\n",
      "   0.71428571]\n",
      " [ 0.71714286  0.71714286  0.71714286 ...,  0.71428571  0.71428571\n",
      "   0.71428571]\n",
      " [ 0.71714286  0.71714286  0.71714286 ...,  0.71428571  0.71428571\n",
      "   0.71428571]\n",
      " ..., \n",
      " [ 0.71714286  0.71714286  0.71714286 ...,  0.71714286  0.71714286\n",
      "   0.71714286]\n",
      " [ 0.71714286  0.71714286  0.71714286 ...,  0.71714286  0.71714286\n",
      "   0.71714286]\n",
      " [ 0.71714286  0.71714286  0.71714286 ...,  0.71714286  0.71714286\n",
      "   0.71714286]]\n"
     ]
    },
    {
     "data": {
      "image/png": "[encoded data removed]",
      "text/plain": [
       "<matplotlib.figure.Figure at 0x8d6f128>"
      ]
     },
     "metadata": {},
     "output_type": "display_data"
    },
    {
     "name": "stdout",
     "output_type": "stream",
     "text": [
      "data\n",
      "[-280.6334251  -126.4715463   -49.25024535]\n",
      "[  87.64809949  287.35020016  168.22688528]\n",
      "[[ 0.71714286  0.71714286  0.71714286 ...,  0.71714286  0.71714286\n",
      "   0.71714286]\n",
      " [ 0.71714286  0.71714286  0.71714286 ...,  0.71714286  0.71714286\n",
      "   0.71714286]\n",
      " [ 0.71714286  0.71714286  0.71714286 ...,  0.71714286  0.71714286\n",
      "   0.71714286]\n",
      " ..., \n",
      " [ 0.71714286  0.71714286  0.71714286 ...,  0.71714286  0.71714286\n",
      "   0.71714286]\n",
      " [ 0.71714286  0.71714286  0.71714286 ...,  0.71714286  0.71714286\n",
      "   0.71714286]\n",
      " [ 0.71714286  0.71714286  0.71714286 ...,  0.71714286  0.71714286\n",
      "   0.71714286]]\n"
     ]
    },
    {
     "data": {
      "image/png": "[encoded data removed]",
      "text/plain": [
       "<matplotlib.figure.Figure at 0x950f4a8>"
      ]
     },
     "metadata": {},
     "output_type": "display_data"
    },
    {
     "name": "stdout",
     "output_type": "stream",
     "text": [
      "data\n",
      "[-276.7839906  -132.6987362   -27.73150054]\n",
      "[  89.78667427  277.68862068  201.61354389]\n",
      "[[ 0.71714286  0.71714286  0.71714286 ...,  0.71714286  0.71428571\n",
      "   0.71428571]\n",
      " [ 0.71714286  0.71714286  0.71714286 ...,  0.71714286  0.71428571\n",
      "   0.71428571]\n",
      " [ 0.71714286  0.71714286  0.71714286 ...,  0.71714286  0.71714286\n",
      "   0.71428571]\n",
      " ..., \n",
      " [ 0.71714286  0.71714286  0.71714286 ...,  0.71714286  0.71714286\n",
      "   0.71714286]\n",
      " [ 0.71714286  0.71714286  0.71714286 ...,  0.71714286  0.71714286\n",
      "   0.71714286]\n",
      " [ 0.71714286  0.71714286  0.71714286 ...,  0.71714286  0.71714286\n",
      "   0.71714286]]\n"
     ]
    },
    {
     "data": {
      "image/png": "[encoded data removed]",
      "text/plain": [
       "<matplotlib.figure.Figure at 0x8d4eeb8>"
      ]
     },
     "metadata": {},
     "output_type": "display_data"
    },
    {
     "name": "stdout",
     "output_type": "stream",
     "text": [
      "data\n",
      "[-227.01136375 -211.68559102  104.16480444]\n",
      "[ 117.43813436  155.13931866  406.25265949]\n",
      "[[ 0.71642857  0.71642857  0.71642857 ...,  0.71428571  0.71428571\n",
      "   0.71428571]\n",
      " [ 0.71642857  0.71642857  0.71642857 ...,  0.71428571  0.71428571\n",
      "   0.71428571]\n",
      " [ 0.71642857  0.71642857  0.71642857 ...,  0.71428571  0.71428571\n",
      "   0.71428571]\n",
      " ..., \n",
      " [ 0.71642857  0.71642857  0.71642857 ...,  0.71642857  0.71642857\n",
      "   0.71642857]\n",
      " [ 0.71642857  0.71642857  0.71642857 ...,  0.71642857  0.71642857\n",
      "   0.71642857]\n",
      " [ 0.71642857  0.71642857  0.71642857 ...,  0.71642857  0.71642857\n",
      "   0.71642857]]\n"
     ]
    },
    {
     "data": {
      "image/png": "[encoded data removed]",
      "text/plain": [
       "<matplotlib.figure.Figure at 0x8b11550>"
      ]
     },
     "metadata": {},
     "output_type": "display_data"
    },
    {
     "name": "stdout",
     "output_type": "stream",
     "text": [
      "data\n",
      "[-199.99235316 -104.18182376  -28.8342414 ]\n",
      "[ 132.4486962   321.93304241  199.90262473]\n",
      "[[ 0.71714286  0.71714286  0.71714286 ...,  0.71714286  0.71714286\n",
      "   0.71714286]\n",
      " [ 0.71714286  0.71714286  0.71714286 ...,  0.71714286  0.71714286\n",
      "   0.71714286]\n",
      " [ 0.71714286  0.71714286  0.71714286 ...,  0.71714286  0.71714286\n",
      "   0.71714286]\n",
      " ..., \n",
      " [ 0.71714286  0.71714286  0.71714286 ...,  0.71714286  0.71714286\n",
      "   0.71714286]\n",
      " [ 0.71714286  0.71714286  0.71714286 ...,  0.71714286  0.71714286\n",
      "   0.71714286]\n",
      " [ 0.71714286  0.71714286  0.71714286 ...,  0.71714286  0.71714286\n",
      "   0.71714286]]\n"
     ]
    },
    {
     "data": {
      "image/png": "[encoded data removed]",
      "text/plain": [
       "<matplotlib.figure.Figure at 0x8a8beb8>"
      ]
     },
     "metadata": {},
     "output_type": "display_data"
    },
    {
     "name": "stdout",
     "output_type": "stream",
     "text": [
      "data\n",
      "[-275.58671607 -126.901967     81.16818323]\n",
      "[  90.4518268   286.68239593  370.57305325]\n",
      "[[ 0.71642857  0.71642857  0.71642857 ...,  0.71642857  0.71642857\n",
      "   0.71642857]\n",
      " [ 0.71642857  0.71642857  0.71642857 ...,  0.71642857  0.71642857\n",
      "   0.71642857]\n",
      " [ 0.71642857  0.71642857  0.71642857 ...,  0.71642857  0.71642857\n",
      "   0.71642857]\n",
      " ..., \n",
      " [ 0.71642857  0.71642857  0.71642857 ...,  0.71642857  0.71642857\n",
      "   0.71642857]\n",
      " [ 0.71642857  0.71642857  0.71642857 ...,  0.71642857  0.71642857\n",
      "   0.71642857]\n",
      " [ 0.71642857  0.71642857  0.71642857 ...,  0.71642857  0.71642857\n",
      "   0.71642857]]\n"
     ]
    },
    {
     "data": {
      "image/png": "[encoded data removed]",
      "text/plain": [
       "<matplotlib.figure.Figure at 0x9533208>"
      ]
     },
     "metadata": {},
     "output_type": "display_data"
    },
    {
     "name": "stdout",
     "output_type": "stream",
     "text": [
      "data\n",
      "[-265.79473706 -163.71378969  -54.81735285]\n",
      "[  95.89181529  229.56829527  159.58943365]\n",
      "[[ 0.71714286  0.71714286  0.71714286 ...,  0.71714286  0.71714286\n",
      "   0.71428571]\n",
      " [ 0.71714286  0.71714286  0.71714286 ...,  0.71714286  0.71714286\n",
      "   0.71714286]\n",
      " [ 0.71714286  0.71714286  0.71714286 ...,  0.71714286  0.71714286\n",
      "   0.71714286]\n",
      " ..., \n",
      " [ 0.71714286  0.71714286  0.71714286 ...,  0.71714286  0.71714286\n",
      "   0.71714286]\n",
      " [ 0.71714286  0.71714286  0.71714286 ...,  0.71714286  0.71714286\n",
      "   0.71714286]\n",
      " [ 0.71714286  0.71714286  0.71714286 ...,  0.71714286  0.71714286\n",
      "   0.71714286]]\n"
     ]
    },
    {
     "data": {
      "image/png": "[encoded data removed]",
      "text/plain": [
       "<matplotlib.figure.Figure at 0xa0c7358>"
      ]
     },
     "metadata": {},
     "output_type": "display_data"
    },
    {
     "name": "stdout",
     "output_type": "stream",
     "text": [
      "data\n",
      "[-207.07205504 -144.11532892  -37.30006736]\n",
      "[ 128.51552838  259.9756041   186.76776749]\n",
      "[[ 0.71714286  0.71714286  0.71714286 ...,  0.71428571  0.71428571\n",
      "   0.71428571]\n",
      " [ 0.71714286  0.71714286  0.71714286 ...,  0.71428571  0.71428571\n",
      "   0.71428571]\n",
      " [ 0.71714286  0.71714286  0.71714286 ...,  0.71428571  0.71428571\n",
      "   0.71428571]\n",
      " ..., \n",
      " [ 0.71714286  0.71714286  0.71714286 ...,  0.71714286  0.71714286\n",
      "   0.71714286]\n",
      " [ 0.71714286  0.71714286  0.71714286 ...,  0.71714286  0.71714286\n",
      "   0.71714286]\n",
      " [ 0.71714286  0.71714286  0.71714286 ...,  0.71714286  0.71714286\n",
      "   0.71714286]]\n"
     ]
    },
    {
     "data": {
      "image/png": "[encoded data removed]",
      "text/plain": [
       "<matplotlib.figure.Figure at 0x8b350b8>"
      ]
     },
     "metadata": {},
     "output_type": "display_data"
    },
    {
     "name": "stdout",
     "output_type": "stream",
     "text": [
      "data\n",
      "[-315.80175461  -84.52505459  -94.69556162]\n",
      "[  68.11013813  352.43081761   97.71778852]\n",
      "[[ 0.71714286  0.71714286  0.71714286 ...,  0.71714286  0.71714286\n",
      "   0.71714286]\n",
      " [ 0.71714286  0.71714286  0.71714286 ...,  0.71714286  0.71714286\n",
      "   0.71714286]\n",
      " [ 0.71714286  0.71714286  0.71714286 ...,  0.71714286  0.71714286\n",
      "   0.71714286]\n",
      " ..., \n",
      " [ 0.71428571  0.71428571  0.71428571 ...,  0.71714286  0.71714286\n",
      "   0.71714286]\n",
      " [ 0.71428571  0.71428571  0.71428571 ...,  0.71714286  0.71714286\n",
      "   0.71714286]\n",
      " [ 0.71428571  0.71428571  0.71428571 ...,  0.71714286  0.71714286\n",
      "   0.71714286]]\n"
     ]
    },
    {
     "data": {
      "image/png": "[encoded data removed]",
      "text/plain": [
       "<matplotlib.figure.Figure at 0xae642b0>"
      ]
     },
     "metadata": {},
     "output_type": "display_data"
    },
    {
     "name": "stdout",
     "output_type": "stream",
     "text": [
      "data\n",
      "[-347.97083344  -96.11941678 -115.02966677]\n",
      "[  50.2384272   334.441989     66.16911628]\n",
      "[[ 0.71714286  0.71714286  0.71714286 ...,  0.71428571  0.71428571\n",
      "   0.71428571]\n",
      " [ 0.71714286  0.71714286  0.71714286 ...,  0.71428571  0.71428571\n",
      "   0.71428571]\n",
      " [ 0.71714286  0.71714286  0.71714286 ...,  0.71428571  0.71428571\n",
      "   0.71428571]\n",
      " ..., \n",
      " [ 0.71428571  0.71428571  0.71428571 ...,  0.71714286  0.71714286\n",
      "   0.71714286]\n",
      " [ 0.71428571  0.71428571  0.71428571 ...,  0.71714286  0.71714286\n",
      "   0.71714286]\n",
      " [ 0.71428571  0.71428571  0.71428571 ...,  0.71714286  0.71714286\n",
      "   0.71714286]]\n"
     ]
    },
    {
     "data": {
      "image/png": "[encoded data removed]",
      "text/plain": [
       "<matplotlib.figure.Figure at 0x8a77dd8>"
      ]
     },
     "metadata": {},
     "output_type": "display_data"
    },
    {
     "name": "stdout",
     "output_type": "stream",
     "text": [
      "data\n",
      "[-263.2874317  -108.0492248    54.76564694]\n",
      "[  97.28476274  315.9327111   329.60911816]\n",
      "[[ 0.71428571  0.71642857  0.71642857 ...,  0.71642857  0.71642857\n",
      "   0.71642857]\n",
      " [ 0.71428571  0.71642857  0.71642857 ...,  0.71642857  0.71642857\n",
      "   0.71642857]\n",
      " [ 0.71428571  0.71642857  0.71642857 ...,  0.71642857  0.71642857\n",
      "   0.71642857]\n",
      " ..., \n",
      " [ 0.71428571  0.71428571  0.71428571 ...,  0.71642857  0.71642857\n",
      "   0.71642857]\n",
      " [ 0.71428571  0.71428571  0.71428571 ...,  0.71642857  0.71642857\n",
      "   0.71642857]\n",
      " [ 0.71428571  0.71428571  0.71428571 ...,  0.71642857  0.71642857\n",
      "   0.71642857]]\n"
     ]
    },
    {
     "data": {
      "image/png": "[encoded data removed]",
      "text/plain": [
       "<matplotlib.figure.Figure at 0x1d1ad4e0>"
      ]
     },
     "metadata": {},
     "output_type": "display_data"
    },
    {
     "name": "stdout",
     "output_type": "stream",
     "text": [
      "data\n",
      "[-341.65280396  -75.27143105   77.90486802]\n",
      "[  53.74844367  366.78795474  365.50997025]\n",
      "[[ 0.71642857  0.71642857  0.71642857 ...,  0.71642857  0.71642857\n",
      "   0.71642857]\n",
      " [ 0.71642857  0.71642857  0.71642857 ...,  0.71642857  0.71642857\n",
      "   0.71642857]\n",
      " [ 0.71642857  0.71642857  0.71642857 ...,  0.71642857  0.71642857\n",
      "   0.71642857]\n",
      " ..., \n",
      " [ 0.71428571  0.71428571  0.71428571 ...,  0.71428571  0.71428571\n",
      "   0.71428571]\n",
      " [ 0.71428571  0.71428571  0.71428571 ...,  0.71428571  0.71428571\n",
      "   0.71428571]\n",
      " [ 0.71428571  0.71428571  0.71428571 ...,  0.71428571  0.71428571\n",
      "   0.71428571]]\n"
     ]
    },
    {
     "data": {
      "image/png": "[encoded data removed]",
      "text/plain": [
       "<matplotlib.figure.Figure at 0x1bcba0b8>"
      ]
     },
     "metadata": {},
     "output_type": "display_data"
    },
    {
     "name": "stdout",
     "output_type": "stream",
     "text": [
      "data\n",
      "[-249.39 -153.32  -56.78]\n",
      "[ 105.00555834  245.69441745  156.54435685]\n",
      "[[ 0.71714286  0.71714286  0.71714286 ...,  0.71714286  0.71714286\n",
      "   0.71714286]\n",
      " [ 0.71714286  0.71714286  0.71714286 ...,  0.71714286  0.71714286\n",
      "   0.71714286]\n",
      " [ 0.71714286  0.71714286  0.71714286 ...,  0.71714286  0.71714286\n",
      "   0.71714286]\n",
      " ..., \n",
      " [ 0.71714286  0.71714286  0.71714286 ...,  0.71714286  0.71714286\n",
      "   0.71714286]\n",
      " [ 0.71714286  0.71714286  0.71714286 ...,  0.71714286  0.71714286\n",
      "   0.71714286]\n",
      " [ 0.71714286  0.71714286  0.71714286 ...,  0.71714286  0.71714286\n",
      "   0.71714286]]\n"
     ]
    },
    {
     "data": {
      "image/png": "[encoded data removed]",
      "text/plain": [
       "<matplotlib.figure.Figure at 0x9792978>"
      ]
     },
     "metadata": {},
     "output_type": "display_data"
    },
    {
     "name": "stdout",
     "output_type": "stream",
     "text": [
      "data\n",
      "[-262.74 -149.12   54.62]\n",
      "[  97.58889147  252.21078109  329.38314473]\n",
      "[[ 0.71428571  0.71428571  0.71428571 ...,  0.71642857  0.71642857\n",
      "   0.71642857]\n",
      " [ 0.71428571  0.71428571  0.71428571 ...,  0.71642857  0.71642857\n",
      "   0.71642857]\n",
      " [ 0.71428571  0.71428571  0.71428571 ...,  0.71642857  0.71642857\n",
      "   0.71642857]\n",
      " ..., \n",
      " [ 0.71428571  0.71642857  0.71642857 ...,  0.71642857  0.71642857\n",
      "   0.71642857]\n",
      " [ 0.71428571  0.71642857  0.71642857 ...,  0.71642857  0.71642857\n",
      "   0.71642857]\n",
      " [ 0.71428571  0.71642857  0.71642857 ...,  0.71642857  0.71642857\n",
      "   0.71642857]]\n"
     ]
    },
    {
     "data": {
      "image/png": "[encoded data removed]",
      "text/plain": [
       "<matplotlib.figure.Figure at 0x9745f98>"
      ]
     },
     "metadata": {},
     "output_type": "display_data"
    },
    {
     "name": "stdout",
     "output_type": "stream",
     "text": [
      "data\n",
      "[-324.57  -98.67  -83.4 ]\n",
      "[  63.23889056  330.48472048  115.24302352]\n",
      "[[ 0.71714286  0.71714286  0.71714286 ...,  0.71714286  0.71714286\n",
      "   0.71714286]\n",
      " [ 0.71714286  0.71714286  0.71714286 ...,  0.71714286  0.71714286\n",
      "   0.71714286]\n",
      " [ 0.71714286  0.71714286  0.71714286 ...,  0.71714286  0.71714286\n",
      "   0.71714286]\n",
      " ..., \n",
      " [ 0.71714286  0.71714286  0.71714286 ...,  0.71714286  0.71714286\n",
      "   0.71714286]\n",
      " [ 0.71714286  0.71714286  0.71714286 ...,  0.71714286  0.71714286\n",
      "   0.71714286]\n",
      " [ 0.71714286  0.71714286  0.71714286 ...,  0.71714286  0.71714286\n",
      "   0.71714286]]\n"
     ]
    },
    {
     "data": {
      "image/png": "[encoded data removed]",
      "text/plain": [
       "<matplotlib.figure.Figure at 0x979c2b0>"
      ]
     },
     "metadata": {},
     "output_type": "display_data"
    },
    {
     "name": "stdout",
     "output_type": "stream",
     "text": [
      "data\n",
      "[-169.29 -126.     68.63]\n",
      "[ 149.50555952  288.08181139  351.119872  ]\n",
      "[[ 0.71642857  0.71642857  0.71642857 ...,  0.71642857  0.71642857\n",
      "   0.71642857]\n",
      " [ 0.71642857  0.71642857  0.71642857 ...,  0.71642857  0.71642857\n",
      "   0.71642857]\n",
      " [ 0.71642857  0.71642857  0.71642857 ...,  0.71642857  0.71642857\n",
      "   0.71642857]\n",
      " ..., \n",
      " [ 0.71642857  0.71642857  0.71642857 ...,  0.71642857  0.71642857\n",
      "   0.71642857]\n",
      " [ 0.71642857  0.71642857  0.71642857 ...,  0.71642857  0.71642857\n",
      "   0.71642857]\n",
      " [ 0.71642857  0.71642857  0.71642857 ...,  0.71642857  0.71642857\n",
      "   0.71642857]]\n"
     ]
    },
    {
     "data": {
      "image/png": "[encoded data removed]",
      "text/plain": [
       "<matplotlib.figure.Figure at 0x8fcd160>"
      ]
     },
     "metadata": {},
     "output_type": "display_data"
    },
    {
     "name": "stdout",
     "output_type": "stream",
     "text": [
      "data\n",
      "[-270.46 -187.66   81.24]\n",
      "[  93.30000247  192.41538715  370.68447806]\n",
      "[[ 0.71428571  0.71428571  0.71428571 ...,  0.71642857  0.71642857\n",
      "   0.71642857]\n",
      " [ 0.71428571  0.71428571  0.71428571 ...,  0.71642857  0.71642857\n",
      "   0.71642857]\n",
      " [ 0.71428571  0.71428571  0.71428571 ...,  0.71642857  0.71642857\n",
      "   0.71642857]\n",
      " ..., \n",
      " [ 0.71642857  0.71642857  0.71642857 ...,  0.71642857  0.71642857\n",
      "   0.71642857]\n",
      " [ 0.71642857  0.71642857  0.71642857 ...,  0.71642857  0.71642857\n",
      "   0.71642857]\n",
      " [ 0.71642857  0.71642857  0.71642857 ...,  0.71642857  0.71642857\n",
      "   0.71642857]]\n"
     ]
    },
    {
     "data": {
      "image/png": "[encoded data removed]",
      "text/plain": [
       "<matplotlib.figure.Figure at 0x1d7d6080>"
      ]
     },
     "metadata": {},
     "output_type": "display_data"
    },
    {
     "name": "stdout",
     "output_type": "stream",
     "text": [
      "data\n",
      "[-279.6  -229.69  -35.06]\n",
      "[  88.22222456  127.20520533  190.24326594]\n",
      "[[ 0.71714286  0.71714286  0.71714286 ...,  0.71714286  0.71714286\n",
      "   0.71714286]\n",
      " [ 0.71714286  0.71714286  0.71714286 ...,  0.71714286  0.71714286\n",
      "   0.71714286]\n",
      " [ 0.71714286  0.71714286  0.71714286 ...,  0.71714286  0.71714286\n",
      "   0.71714286]\n",
      " ..., \n",
      " [ 0.71714286  0.71714286  0.71714286 ...,  0.71428571  0.71428571\n",
      "   0.71428571]\n",
      " [ 0.71714286  0.71714286  0.71714286 ...,  0.71428571  0.71428571\n",
      "   0.71428571]\n",
      " [ 0.71714286  0.71714286  0.71714286 ...,  0.71428571  0.71428571\n",
      "   0.71428571]]\n"
     ]
    },
    {
     "data": {
      "image/png": "[encoded data removed]",
      "text/plain": [
       "<matplotlib.figure.Figure at 0x92fa048>"
      ]
     },
     "metadata": {},
     "output_type": "display_data"
    },
    {
     "name": "stdout",
     "output_type": "stream",
     "text": [
      "data\n",
      "[-394.83  -83.96  -84.8 ]\n",
      "[  24.2055562   353.30750836  113.0709023 ]\n",
      "[[ 0.71428571  0.71428571  0.71428571 ...,  0.71428571  0.71428571\n",
      "   0.71428571]\n",
      " [ 0.71428571  0.71428571  0.71428571 ...,  0.71428571  0.71428571\n",
      "   0.71428571]\n",
      " [ 0.71428571  0.71428571  0.71428571 ...,  0.71428571  0.71428571\n",
      "   0.71428571]\n",
      " ..., \n",
      " [ 0.71428571  0.71428571  0.71428571 ...,  0.71428571  0.71428571\n",
      "   0.71428571]\n",
      " [ 0.71428571  0.71428571  0.71428571 ...,  0.71428571  0.71428571\n",
      "   0.71428571]\n",
      " [ 0.71428571  0.71428571  0.71428571 ...,  0.71428571  0.71428571\n",
      "   0.71428571]]\n"
     ]
    },
    {
     "data": {
      "image/png": "[encoded data removed]",
      "text/plain": [
       "<matplotlib.figure.Figure at 0x1d6e2940>"
      ]
     },
     "metadata": {},
     "output_type": "display_data"
    },
    {
     "name": "stdout",
     "output_type": "stream",
     "text": [
      "data\n",
      "[-335.81 -150.52 -138.05]\n",
      "[  56.99444595  250.03865988   30.45272048]\n",
      "[]\n"
     ]
    },
    {
     "name": "stderr",
     "output_type": "stream",
     "text": [
      "C:\\Users\\csio\\Anaconda2\\lib\\site-packages\\matplotlib\\axes\\_base.py:2917: UserWarning: Attempting to set identical left==right results\n",
      "in singular transformations; automatically expanding.\n",
      "left=-0.5, right=-0.5\n",
      "  'left=%s, right=%s') % (left, right))\n"
     ]
    },
    {
     "data": {
      "image/png": "[encoded data removed]",
      "text/plain": [
       "<matplotlib.figure.Figure at 0x1c7c4470>"
      ]
     },
     "metadata": {},
     "output_type": "display_data"
    },
    {
     "ename": "ValueError",
     "evalue": "tile cannot extend outside image",
     "output_type": "error",
     "traceback": [
      "\u001b[1;31m---------------------------------------------------------------------------\u001b[0m",
      "\u001b[1;31mValueError\u001b[0m                                Traceback (most recent call last)",
      "\u001b[1;32m<ipython-input-18-5cd8f10b4ee9>\u001b[0m in \u001b[0;36m<module>\u001b[1;34m()\u001b[0m\n\u001b[0;32m     12\u001b[0m     \u001b[0mplt\u001b[0m\u001b[1;33m.\u001b[0m\u001b[0mimshow\u001b[0m\u001b[1;33m(\u001b[0m\u001b[0mpatch\u001b[0m\u001b[1;33m,\u001b[0m \u001b[0mcmap\u001b[0m\u001b[1;33m=\u001b[0m\u001b[1;34m'gray'\u001b[0m\u001b[1;33m)\u001b[0m\u001b[1;33m\u001b[0m\u001b[0m\n\u001b[0;32m     13\u001b[0m     \u001b[0mplt\u001b[0m\u001b[1;33m.\u001b[0m\u001b[0mshow\u001b[0m\u001b[1;33m(\u001b[0m\u001b[1;33m)\u001b[0m\u001b[1;33m\u001b[0m\u001b[0m\n\u001b[1;32m---> 14\u001b[1;33m     \u001b[0mImage\u001b[0m\u001b[1;33m.\u001b[0m\u001b[0mfromarray\u001b[0m\u001b[1;33m(\u001b[0m\u001b[0mpatch\u001b[0m\u001b[1;33m*\u001b[0m\u001b[1;36m255\u001b[0m\u001b[1;33m)\u001b[0m\u001b[1;33m.\u001b[0m\u001b[0mconvert\u001b[0m\u001b[1;33m(\u001b[0m\u001b[1;34m'L'\u001b[0m\u001b[1;33m)\u001b[0m\u001b[1;33m.\u001b[0m\u001b[0msave\u001b[0m\u001b[1;33m(\u001b[0m\u001b[0mos\u001b[0m\u001b[1;33m.\u001b[0m\u001b[0mpath\u001b[0m\u001b[1;33m.\u001b[0m\u001b[0mjoin\u001b[0m\u001b[1;33m(\u001b[0m\u001b[0moutputDir\u001b[0m\u001b[1;33m,\u001b[0m \u001b[1;34m'patch_'\u001b[0m \u001b[1;33m+\u001b[0m \u001b[0mstr\u001b[0m\u001b[1;33m(\u001b[0m\u001b[0mworldCoord\u001b[0m\u001b[1;33m[\u001b[0m\u001b[1;36m0\u001b[0m\u001b[1;33m]\u001b[0m\u001b[1;33m)\u001b[0m \u001b[1;33m+\u001b[0m \u001b[1;34m'_'\u001b[0m \u001b[1;33m+\u001b[0m \u001b[0mstr\u001b[0m\u001b[1;33m(\u001b[0m\u001b[0mworldCoord\u001b[0m\u001b[1;33m[\u001b[0m\u001b[1;36m1\u001b[0m\u001b[1;33m]\u001b[0m\u001b[1;33m)\u001b[0m \u001b[1;33m+\u001b[0m \u001b[1;34m'_'\u001b[0m \u001b[1;33m+\u001b[0m \u001b[0mstr\u001b[0m\u001b[1;33m(\u001b[0m\u001b[0mworldCoord\u001b[0m\u001b[1;33m[\u001b[0m\u001b[1;36m2\u001b[0m\u001b[1;33m]\u001b[0m\u001b[1;33m)\u001b[0m \u001b[1;33m+\u001b[0m \u001b[1;34m'.tiff'\u001b[0m\u001b[1;33m)\u001b[0m\u001b[1;33m)\u001b[0m\u001b[1;33m\u001b[0m\u001b[0m\n\u001b[0m\u001b[0;32m     15\u001b[0m \u001b[1;33m\u001b[0m\u001b[0m\n",
      "\u001b[1;32mC:\\Users\\csio\\Anaconda2\\lib\\site-packages\\PIL\\Image.pyc\u001b[0m in \u001b[0;36mfromarray\u001b[1;34m(obj, mode)\u001b[0m\n\u001b[0;32m   2311\u001b[0m             \u001b[0mobj\u001b[0m \u001b[1;33m=\u001b[0m \u001b[0mobj\u001b[0m\u001b[1;33m.\u001b[0m\u001b[0mtostring\u001b[0m\u001b[1;33m(\u001b[0m\u001b[1;33m)\u001b[0m\u001b[1;33m\u001b[0m\u001b[0m\n\u001b[0;32m   2312\u001b[0m \u001b[1;33m\u001b[0m\u001b[0m\n\u001b[1;32m-> 2313\u001b[1;33m     \u001b[1;32mreturn\u001b[0m \u001b[0mfrombuffer\u001b[0m\u001b[1;33m(\u001b[0m\u001b[0mmode\u001b[0m\u001b[1;33m,\u001b[0m \u001b[0msize\u001b[0m\u001b[1;33m,\u001b[0m \u001b[0mobj\u001b[0m\u001b[1;33m,\u001b[0m \u001b[1;34m\"raw\"\u001b[0m\u001b[1;33m,\u001b[0m \u001b[0mrawmode\u001b[0m\u001b[1;33m,\u001b[0m \u001b[1;36m0\u001b[0m\u001b[1;33m,\u001b[0m \u001b[1;36m1\u001b[0m\u001b[1;33m)\u001b[0m\u001b[1;33m\u001b[0m\u001b[0m\n\u001b[0m\u001b[0;32m   2314\u001b[0m \u001b[1;33m\u001b[0m\u001b[0m\n\u001b[0;32m   2315\u001b[0m \u001b[1;33m\u001b[0m\u001b[0m\n",
      "\u001b[1;32mC:\\Users\\csio\\Anaconda2\\lib\\site-packages\\PIL\\Image.pyc\u001b[0m in \u001b[0;36mfrombuffer\u001b[1;34m(mode, size, data, decoder_name, *args)\u001b[0m\n\u001b[0;32m   2264\u001b[0m             \u001b[1;32mreturn\u001b[0m \u001b[0mim\u001b[0m\u001b[1;33m\u001b[0m\u001b[0m\n\u001b[0;32m   2265\u001b[0m \u001b[1;33m\u001b[0m\u001b[0m\n\u001b[1;32m-> 2266\u001b[1;33m     \u001b[1;32mreturn\u001b[0m \u001b[0mfrombytes\u001b[0m\u001b[1;33m(\u001b[0m\u001b[0mmode\u001b[0m\u001b[1;33m,\u001b[0m \u001b[0msize\u001b[0m\u001b[1;33m,\u001b[0m \u001b[0mdata\u001b[0m\u001b[1;33m,\u001b[0m \u001b[0mdecoder_name\u001b[0m\u001b[1;33m,\u001b[0m \u001b[0margs\u001b[0m\u001b[1;33m)\u001b[0m\u001b[1;33m\u001b[0m\u001b[0m\n\u001b[0m\u001b[0;32m   2267\u001b[0m \u001b[1;33m\u001b[0m\u001b[0m\n\u001b[0;32m   2268\u001b[0m \u001b[1;33m\u001b[0m\u001b[0m\n",
      "\u001b[1;32mC:\\Users\\csio\\Anaconda2\\lib\\site-packages\\PIL\\Image.pyc\u001b[0m in \u001b[0;36mfrombytes\u001b[1;34m(mode, size, data, decoder_name, *args)\u001b[0m\n\u001b[0;32m   2197\u001b[0m \u001b[1;33m\u001b[0m\u001b[0m\n\u001b[0;32m   2198\u001b[0m     \u001b[0mim\u001b[0m \u001b[1;33m=\u001b[0m \u001b[0mnew\u001b[0m\u001b[1;33m(\u001b[0m\u001b[0mmode\u001b[0m\u001b[1;33m,\u001b[0m \u001b[0msize\u001b[0m\u001b[1;33m)\u001b[0m\u001b[1;33m\u001b[0m\u001b[0m\n\u001b[1;32m-> 2199\u001b[1;33m     \u001b[0mim\u001b[0m\u001b[1;33m.\u001b[0m\u001b[0mfrombytes\u001b[0m\u001b[1;33m(\u001b[0m\u001b[0mdata\u001b[0m\u001b[1;33m,\u001b[0m \u001b[0mdecoder_name\u001b[0m\u001b[1;33m,\u001b[0m \u001b[0margs\u001b[0m\u001b[1;33m)\u001b[0m\u001b[1;33m\u001b[0m\u001b[0m\n\u001b[0m\u001b[0;32m   2200\u001b[0m     \u001b[1;32mreturn\u001b[0m \u001b[0mim\u001b[0m\u001b[1;33m\u001b[0m\u001b[0m\n\u001b[0;32m   2201\u001b[0m \u001b[1;33m\u001b[0m\u001b[0m\n",
      "\u001b[1;32mC:\\Users\\csio\\Anaconda2\\lib\\site-packages\\PIL\\Image.pyc\u001b[0m in \u001b[0;36mfrombytes\u001b[1;34m(self, data, decoder_name, *args)\u001b[0m\n\u001b[0;32m    749\u001b[0m         \u001b[1;31m# unpack data\u001b[0m\u001b[1;33m\u001b[0m\u001b[1;33m\u001b[0m\u001b[0m\n\u001b[0;32m    750\u001b[0m         \u001b[0md\u001b[0m \u001b[1;33m=\u001b[0m \u001b[0m_getdecoder\u001b[0m\u001b[1;33m(\u001b[0m\u001b[0mself\u001b[0m\u001b[1;33m.\u001b[0m\u001b[0mmode\u001b[0m\u001b[1;33m,\u001b[0m \u001b[0mdecoder_name\u001b[0m\u001b[1;33m,\u001b[0m \u001b[0margs\u001b[0m\u001b[1;33m)\u001b[0m\u001b[1;33m\u001b[0m\u001b[0m\n\u001b[1;32m--> 751\u001b[1;33m         \u001b[0md\u001b[0m\u001b[1;33m.\u001b[0m\u001b[0msetimage\u001b[0m\u001b[1;33m(\u001b[0m\u001b[0mself\u001b[0m\u001b[1;33m.\u001b[0m\u001b[0mim\u001b[0m\u001b[1;33m)\u001b[0m\u001b[1;33m\u001b[0m\u001b[0m\n\u001b[0m\u001b[0;32m    752\u001b[0m         \u001b[0ms\u001b[0m \u001b[1;33m=\u001b[0m \u001b[0md\u001b[0m\u001b[1;33m.\u001b[0m\u001b[0mdecode\u001b[0m\u001b[1;33m(\u001b[0m\u001b[0mdata\u001b[0m\u001b[1;33m)\u001b[0m\u001b[1;33m\u001b[0m\u001b[0m\n\u001b[0;32m    753\u001b[0m \u001b[1;33m\u001b[0m\u001b[0m\n",
      "\u001b[1;31mValueError\u001b[0m: tile cannot extend outside image"
     ]
    }
   ],
   "source": [
    "for cand in cands[1:]:\n",
    "    worldCoord = np.asarray([float(cand[3]),float(cand[2]),float(cand[1])])\n",
    "    voxelCoord = worldToVoxelCoord(worldCoord, numpyOrigin, numpySpacing)\n",
    "    voxelWidth = 65\n",
    "    patch = numpyImage[voxelCoord[0],int(voxelCoord[1]-voxelWidth/2):int(voxelCoord[1]+voxelWidth/2),int(voxelCoord[2]-voxelWidth/2):int(voxelCoord[2]+voxelWidth/2) ]\n",
    "    patch = normalizePlanes(patch)\n",
    "    print 'data'\n",
    "    print worldCoord\n",
    "    print voxelCoord\n",
    "    print patch\n",
    "    outputDir = 'patches/'\n",
    "    plt.imshow(patch, cmap='gray')\n",
    "    plt.show()\n",
    "    Image.fromarray(patch*255).convert('L').save(os.path.join(outputDir, 'patch_' + str(worldCoord[0]) + '_' + str(worldCoord[1]) + '_' + str(worldCoord[2]) + '.tiff'))\n",
    " "
   ]
  },
  {
   "cell_type": "code",
   "execution_count": null,
   "metadata": {
    "collapsed": true
   },
   "outputs": [],
   "source": []
  }
 ],
 "metadata": {
  "kernelspec": {
   "display_name": "Python 2",
   "language": "python",
   "name": "python2"
  },
  "language_info": {
   "codemirror_mode": {
    "name": "ipython",
    "version": 2
   },
   "file_extension": ".py",
   "mimetype": "text/x-python",
   "name": "python",
   "nbconvert_exporter": "python",
   "pygments_lexer": "ipython2",
   "version": "2.7.13"
  }
 },
 "nbformat": 4,
 "nbformat_minor": 1
}
